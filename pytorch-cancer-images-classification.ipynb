{
 "cells": [
  {
   "cell_type": "code",
   "execution_count": 1,
   "id": "bdebb7bf",
   "metadata": {
    "_cell_guid": "c9751728-c233-4cd0-84dd-2941b9ada9a1",
    "_uuid": "116351b6-f10c-416b-8e38-077b5e4f70f3",
    "collapsed": false,
    "execution": {
     "iopub.execute_input": "2024-04-18T10:28:36.156489Z",
     "iopub.status.busy": "2024-04-18T10:28:36.155808Z",
     "iopub.status.idle": "2024-04-18T10:28:52.066666Z",
     "shell.execute_reply": "2024-04-18T10:28:52.065593Z"
    },
    "jupyter": {
     "outputs_hidden": false
    },
    "papermill": {
     "duration": 15.92119,
     "end_time": "2024-04-18T10:28:52.069240",
     "exception": false,
     "start_time": "2024-04-18T10:28:36.148050",
     "status": "completed"
    },
    "tags": []
   },
   "outputs": [
    {
     "name": "stderr",
     "output_type": "stream",
     "text": [
      "2024-04-18 10:28:38.398407: E external/local_xla/xla/stream_executor/cuda/cuda_dnn.cc:9261] Unable to register cuDNN factory: Attempting to register factory for plugin cuDNN when one has already been registered\n",
      "2024-04-18 10:28:38.398501: E external/local_xla/xla/stream_executor/cuda/cuda_fft.cc:607] Unable to register cuFFT factory: Attempting to register factory for plugin cuFFT when one has already been registered\n",
      "2024-04-18 10:28:38.557787: E external/local_xla/xla/stream_executor/cuda/cuda_blas.cc:1515] Unable to register cuBLAS factory: Attempting to register factory for plugin cuBLAS when one has already been registered\n"
     ]
    }
   ],
   "source": [
    "import os\n",
    "import shutil\n",
    "import random\n",
    "import numpy as np\n",
    "import tensorflow as tf\n",
    "from tensorflow.keras.preprocessing.image import load_img, img_to_array\n",
    "from sklearn.model_selection import train_test_split\n",
    "from tensorflow.keras.models import Sequential\n",
    "from tensorflow.keras.layers import Conv2D, MaxPooling2D, Flatten, Dense"
   ]
  },
  {
   "cell_type": "code",
   "execution_count": 2,
   "id": "83f15785",
   "metadata": {
    "_cell_guid": "6eee9aaf-0af1-4a96-9293-4c06558c887e",
    "_uuid": "11f397a5-c9b5-4430-96d2-2f1e699cd2fb",
    "collapsed": false,
    "execution": {
     "iopub.execute_input": "2024-04-18T10:28:52.082651Z",
     "iopub.status.busy": "2024-04-18T10:28:52.082097Z",
     "iopub.status.idle": "2024-04-18T10:28:52.086858Z",
     "shell.execute_reply": "2024-04-18T10:28:52.085850Z"
    },
    "jupyter": {
     "outputs_hidden": false
    },
    "papermill": {
     "duration": 0.013506,
     "end_time": "2024-04-18T10:28:52.088940",
     "exception": false,
     "start_time": "2024-04-18T10:28:52.075434",
     "status": "completed"
    },
    "tags": []
   },
   "outputs": [],
   "source": [
    "dataset_dir = \"/kaggle/input/images-cancer\"\n",
    "\n",
    "# Path to where you want to store train and test datasets\n",
    "base_output_dir = \"/kaggle/working/\""
   ]
  },
  {
   "cell_type": "code",
   "execution_count": 3,
   "id": "f438f0a3",
   "metadata": {
    "_cell_guid": "bb10ba4a-3d52-4867-9bf1-f582e365ce95",
    "_uuid": "43c84502-70cb-4e1f-ae68-b46b553d2dc1",
    "collapsed": false,
    "execution": {
     "iopub.execute_input": "2024-04-18T10:28:52.101546Z",
     "iopub.status.busy": "2024-04-18T10:28:52.101242Z",
     "iopub.status.idle": "2024-04-18T10:28:52.106539Z",
     "shell.execute_reply": "2024-04-18T10:28:52.105726Z"
    },
    "jupyter": {
     "outputs_hidden": false
    },
    "papermill": {
     "duration": 0.013845,
     "end_time": "2024-04-18T10:28:52.108538",
     "exception": false,
     "start_time": "2024-04-18T10:28:52.094693",
     "status": "completed"
    },
    "tags": []
   },
   "outputs": [],
   "source": [
    "# Create train and test directories if they don't exist\n",
    "train_dir = os.path.join(base_output_dir, \"train_dataset\")\n",
    "test_dir = os.path.join(base_output_dir, \"test_dataset\")\n",
    "os.makedirs(train_dir, exist_ok=True)\n",
    "os.makedirs(test_dir, exist_ok=True)"
   ]
  },
  {
   "cell_type": "code",
   "execution_count": 4,
   "id": "75a0436d",
   "metadata": {
    "execution": {
     "iopub.execute_input": "2024-04-18T10:28:52.120868Z",
     "iopub.status.busy": "2024-04-18T10:28:52.120605Z",
     "iopub.status.idle": "2024-04-18T10:28:52.124516Z",
     "shell.execute_reply": "2024-04-18T10:28:52.123590Z"
    },
    "papermill": {
     "duration": 0.012483,
     "end_time": "2024-04-18T10:28:52.126733",
     "exception": false,
     "start_time": "2024-04-18T10:28:52.114250",
     "status": "completed"
    },
    "tags": []
   },
   "outputs": [],
   "source": [
    "# Percentage of data to be used for training\n",
    "train_percent = 0.8"
   ]
  },
  {
   "cell_type": "code",
   "execution_count": 5,
   "id": "a7295a49",
   "metadata": {
    "_cell_guid": "11014cd9-cf02-425c-9f18-611da507eb3b",
    "_uuid": "52141f84-cdf6-4c8c-8c6f-f02c24e2ecab",
    "collapsed": false,
    "execution": {
     "iopub.execute_input": "2024-04-18T10:28:52.139592Z",
     "iopub.status.busy": "2024-04-18T10:28:52.139266Z",
     "iopub.status.idle": "2024-04-18T11:35:17.594323Z",
     "shell.execute_reply": "2024-04-18T11:35:17.593381Z"
    },
    "jupyter": {
     "outputs_hidden": false
    },
    "papermill": {
     "duration": 3985.464518,
     "end_time": "2024-04-18T11:35:17.597005",
     "exception": false,
     "start_time": "2024-04-18T10:28:52.132487",
     "status": "completed"
    },
    "tags": []
   },
   "outputs": [],
   "source": [
    "for root, dirs, files in os.walk(dataset_dir):\n",
    "    for dir_name in dirs:\n",
    "        # Check if the directory name is a label (0 or 1)\n",
    "        if dir_name.isdigit():\n",
    "            label = int(dir_name)\n",
    "            images_dir = os.path.join(root, dir_name)\n",
    "            \n",
    "            # List all the image files in the directory\n",
    "            image_files = [f for f in os.listdir(images_dir) if os.path.isfile(os.path.join(images_dir, f))]\n",
    "            \n",
    "            # Shuffle the list of image files\n",
    "            random.shuffle(image_files)\n",
    "            \n",
    "            # Calculate the number of images for training\n",
    "            num_train = int(len(image_files) * train_percent)\n",
    "            \n",
    "            # Split the list into training and testing sets\n",
    "            train_images = image_files[:num_train]\n",
    "            test_images = image_files[num_train:]\n",
    "            \n",
    "            # Create label directories in train and test directories\n",
    "            train_label_dir = os.path.join(train_dir, str(label))\n",
    "            test_label_dir = os.path.join(test_dir, str(label))\n",
    "            os.makedirs(train_label_dir, exist_ok=True)\n",
    "            os.makedirs(test_label_dir, exist_ok=True)\n",
    "            \n",
    "            # Move images to train directory\n",
    "            for img in train_images:\n",
    "                src = os.path.join(images_dir, img)\n",
    "                dst = os.path.join(train_label_dir, img)\n",
    "                shutil.copy(src, dst)\n",
    "            \n",
    "            # Move images to test directory\n",
    "            for img in test_images:\n",
    "                src = os.path.join(images_dir, img)\n",
    "                dst = os.path.join(test_label_dir, img)\n",
    "                shutil.copy(src, dst)"
   ]
  },
  {
   "cell_type": "code",
   "execution_count": 6,
   "id": "8ac43d0a",
   "metadata": {
    "_cell_guid": "d058312d-cfe7-4717-a1e8-bcafaadb58f5",
    "_uuid": "50d4f5af-26c5-4bc8-a949-aee97b908f84",
    "collapsed": false,
    "execution": {
     "iopub.execute_input": "2024-04-18T11:35:17.610733Z",
     "iopub.status.busy": "2024-04-18T11:35:17.609942Z",
     "iopub.status.idle": "2024-04-18T11:35:17.614564Z",
     "shell.execute_reply": "2024-04-18T11:35:17.613630Z"
    },
    "jupyter": {
     "outputs_hidden": false
    },
    "papermill": {
     "duration": 0.013529,
     "end_time": "2024-04-18T11:35:17.616674",
     "exception": false,
     "start_time": "2024-04-18T11:35:17.603145",
     "status": "completed"
    },
    "tags": []
   },
   "outputs": [],
   "source": [
    "import tensorflow as tf\n",
    "from tensorflow.keras import layers, models\n",
    "from tensorflow.keras.preprocessing.image import ImageDataGenerator"
   ]
  },
  {
   "cell_type": "code",
   "execution_count": 7,
   "id": "77b44d27",
   "metadata": {
    "execution": {
     "iopub.execute_input": "2024-04-18T11:35:17.629472Z",
     "iopub.status.busy": "2024-04-18T11:35:17.629215Z",
     "iopub.status.idle": "2024-04-18T11:35:18.230529Z",
     "shell.execute_reply": "2024-04-18T11:35:18.229602Z"
    },
    "papermill": {
     "duration": 0.610046,
     "end_time": "2024-04-18T11:35:18.232934",
     "exception": false,
     "start_time": "2024-04-18T11:35:17.622888",
     "status": "completed"
    },
    "tags": []
   },
   "outputs": [
    {
     "name": "stdout",
     "output_type": "stream",
     "text": [
      "GPU found\n"
     ]
    }
   ],
   "source": [
    "if tf.test.gpu_device_name():\n",
    "    print('GPU found')\n",
    "else:\n",
    "    print(\"No GPU found. Please ensure you have GPU enabled runtime in Colab.\")"
   ]
  },
  {
   "cell_type": "code",
   "execution_count": 8,
   "id": "81f55649",
   "metadata": {
    "execution": {
     "iopub.execute_input": "2024-04-18T11:35:18.246337Z",
     "iopub.status.busy": "2024-04-18T11:35:18.245757Z",
     "iopub.status.idle": "2024-04-18T11:35:18.253679Z",
     "shell.execute_reply": "2024-04-18T11:35:18.252608Z"
    },
    "papermill": {
     "duration": 0.01723,
     "end_time": "2024-04-18T11:35:18.256072",
     "exception": false,
     "start_time": "2024-04-18T11:35:18.238842",
     "status": "completed"
    },
    "tags": []
   },
   "outputs": [
    {
     "name": "stdout",
     "output_type": "stream",
     "text": [
      "Number of GPUs available: 2\n",
      "Name: /physical_device:GPU:0   Type: GPU\n",
      "Name: /physical_device:GPU:1   Type: GPU\n"
     ]
    }
   ],
   "source": [
    "gpus = tf.config.experimental.list_physical_devices('GPU')\n",
    "\n",
    "if gpus:\n",
    "    # Display the number of GPUs available\n",
    "    print(\"Number of GPUs available:\", len(gpus))\n",
    "    # Display details of each GPU\n",
    "    for gpu in gpus:\n",
    "        print(\"Name:\", gpu.name, \"  Type:\", gpu.device_type)\n",
    "else:\n",
    "    print(\"No GPUs available.\")"
   ]
  },
  {
   "cell_type": "code",
   "execution_count": 9,
   "id": "0a6490ae",
   "metadata": {
    "_cell_guid": "282ce9e9-c007-43c9-a5d4-9f9c947e8608",
    "_uuid": "cfd1626f-41d3-4330-bce8-fe5cdab208ae",
    "collapsed": false,
    "execution": {
     "iopub.execute_input": "2024-04-18T11:35:18.320404Z",
     "iopub.status.busy": "2024-04-18T11:35:18.319505Z",
     "iopub.status.idle": "2024-04-18T11:35:18.324048Z",
     "shell.execute_reply": "2024-04-18T11:35:18.323112Z"
    },
    "jupyter": {
     "outputs_hidden": false
    },
    "papermill": {
     "duration": 0.013833,
     "end_time": "2024-04-18T11:35:18.326144",
     "exception": false,
     "start_time": "2024-04-18T11:35:18.312311",
     "status": "completed"
    },
    "tags": []
   },
   "outputs": [],
   "source": [
    "# Define image dimensions and batch size\n",
    "img_width, img_height = 150, 150\n",
    "batch_size = 32"
   ]
  },
  {
   "cell_type": "code",
   "execution_count": 10,
   "id": "1b2494d4",
   "metadata": {
    "execution": {
     "iopub.execute_input": "2024-04-18T11:35:18.338781Z",
     "iopub.status.busy": "2024-04-18T11:35:18.338420Z",
     "iopub.status.idle": "2024-04-18T11:35:18.343358Z",
     "shell.execute_reply": "2024-04-18T11:35:18.342468Z"
    },
    "papermill": {
     "duration": 0.013478,
     "end_time": "2024-04-18T11:35:18.345338",
     "exception": false,
     "start_time": "2024-04-18T11:35:18.331860",
     "status": "completed"
    },
    "tags": []
   },
   "outputs": [],
   "source": [
    "# Data augmentation for training set\n",
    "train_datagen = ImageDataGenerator(rescale=1./255,\n",
    "                                   shear_range=0.2,\n",
    "                                   zoom_range=0.2,\n",
    "                                   horizontal_flip=True)\n",
    "\n",
    "# Only rescaling for validation set\n",
    "test_datagen = ImageDataGenerator(rescale=1./255)"
   ]
  },
  {
   "cell_type": "code",
   "execution_count": 11,
   "id": "ab05cd1f",
   "metadata": {
    "execution": {
     "iopub.execute_input": "2024-04-18T11:35:18.357471Z",
     "iopub.status.busy": "2024-04-18T11:35:18.357219Z",
     "iopub.status.idle": "2024-04-18T11:35:28.540018Z",
     "shell.execute_reply": "2024-04-18T11:35:28.538925Z"
    },
    "papermill": {
     "duration": 10.191797,
     "end_time": "2024-04-18T11:35:28.542642",
     "exception": false,
     "start_time": "2024-04-18T11:35:18.350845",
     "status": "completed"
    },
    "tags": []
   },
   "outputs": [
    {
     "name": "stdout",
     "output_type": "stream",
     "text": [
      "Found 266285 images belonging to 281 classes.\n",
      "Found 100213 images belonging to 281 classes.\n"
     ]
    }
   ],
   "source": [
    "# Load the training dataset\n",
    "train_generator = train_datagen.flow_from_directory(\n",
    "    train_dir,\n",
    "    target_size=(img_width, img_height),\n",
    "    batch_size=batch_size,\n",
    "    class_mode='binary')\n",
    "\n",
    "# Load the testing dataset\n",
    "test_generator = test_datagen.flow_from_directory(\n",
    "    test_dir,\n",
    "    target_size=(img_width, img_height),\n",
    "    batch_size=batch_size,\n",
    "    class_mode='binary')"
   ]
  },
  {
   "cell_type": "code",
   "execution_count": 12,
   "id": "ceb2d8b4",
   "metadata": {
    "execution": {
     "iopub.execute_input": "2024-04-18T11:35:28.557029Z",
     "iopub.status.busy": "2024-04-18T11:35:28.556404Z",
     "iopub.status.idle": "2024-04-18T11:35:28.564007Z",
     "shell.execute_reply": "2024-04-18T11:35:28.563082Z"
    },
    "papermill": {
     "duration": 0.017077,
     "end_time": "2024-04-18T11:35:28.566190",
     "exception": false,
     "start_time": "2024-04-18T11:35:28.549113",
     "status": "completed"
    },
    "tags": []
   },
   "outputs": [],
   "source": [
    "# Define the model architecture\n",
    "def create_model():\n",
    "    model = models.Sequential([\n",
    "        layers.Conv2D(32, (3, 3), activation='relu', input_shape=(img_width, img_height, 3)),\n",
    "        layers.MaxPooling2D((2, 2)),\n",
    "        layers.Conv2D(64, (3, 3), activation='relu'),\n",
    "        layers.MaxPooling2D((2, 2)),\n",
    "        layers.Conv2D(128, (3, 3), activation='relu'),\n",
    "        layers.MaxPooling2D((2, 2)),\n",
    "        layers.Conv2D(128, (3, 3), activation='relu'),\n",
    "        layers.MaxPooling2D((2, 2)),\n",
    "        layers.Flatten(),\n",
    "        layers.Dense(512, activation='relu'),\n",
    "        layers.Dense(1, activation='sigmoid')\n",
    "    ])\n",
    "    return model"
   ]
  },
  {
   "cell_type": "code",
   "execution_count": 13,
   "id": "1c925eb4",
   "metadata": {
    "execution": {
     "iopub.execute_input": "2024-04-18T11:35:28.579870Z",
     "iopub.status.busy": "2024-04-18T11:35:28.579531Z",
     "iopub.status.idle": "2024-04-18T11:35:29.439207Z",
     "shell.execute_reply": "2024-04-18T11:35:29.438212Z"
    },
    "papermill": {
     "duration": 0.868976,
     "end_time": "2024-04-18T11:35:29.441435",
     "exception": false,
     "start_time": "2024-04-18T11:35:28.572459",
     "status": "completed"
    },
    "tags": []
   },
   "outputs": [
    {
     "name": "stderr",
     "output_type": "stream",
     "text": [
      "/opt/conda/lib/python3.10/site-packages/keras/src/layers/convolutional/base_conv.py:99: UserWarning: Do not pass an `input_shape`/`input_dim` argument to a layer. When using Sequential models, prefer using an `Input(shape)` object as the first layer in the model instead.\n",
      "  super().__init__(\n"
     ]
    },
    {
     "data": {
      "text/html": [
       "<pre style=\"white-space:pre;overflow-x:auto;line-height:normal;font-family:Menlo,'DejaVu Sans Mono',consolas,'Courier New',monospace\"><span style=\"font-weight: bold\">Model: \"sequential\"</span>\n",
       "</pre>\n"
      ],
      "text/plain": [
       "\u001b[1mModel: \"sequential\"\u001b[0m\n"
      ]
     },
     "metadata": {},
     "output_type": "display_data"
    },
    {
     "data": {
      "text/html": [
       "<pre style=\"white-space:pre;overflow-x:auto;line-height:normal;font-family:Menlo,'DejaVu Sans Mono',consolas,'Courier New',monospace\">┏━━━━━━━━━━━━━━━━━━━━━━━━━━━━━━━━━┳━━━━━━━━━━━━━━━━━━━━━━━━┳━━━━━━━━━━━━━━━┓\n",
       "┃<span style=\"font-weight: bold\"> Layer (type)                    </span>┃<span style=\"font-weight: bold\"> Output Shape           </span>┃<span style=\"font-weight: bold\">       Param # </span>┃\n",
       "┡━━━━━━━━━━━━━━━━━━━━━━━━━━━━━━━━━╇━━━━━━━━━━━━━━━━━━━━━━━━╇━━━━━━━━━━━━━━━┩\n",
       "│ conv2d (<span style=\"color: #0087ff; text-decoration-color: #0087ff\">Conv2D</span>)                 │ (<span style=\"color: #00d7ff; text-decoration-color: #00d7ff\">None</span>, <span style=\"color: #00af00; text-decoration-color: #00af00\">148</span>, <span style=\"color: #00af00; text-decoration-color: #00af00\">148</span>, <span style=\"color: #00af00; text-decoration-color: #00af00\">32</span>)   │           <span style=\"color: #00af00; text-decoration-color: #00af00\">896</span> │\n",
       "├─────────────────────────────────┼────────────────────────┼───────────────┤\n",
       "│ max_pooling2d (<span style=\"color: #0087ff; text-decoration-color: #0087ff\">MaxPooling2D</span>)    │ (<span style=\"color: #00d7ff; text-decoration-color: #00d7ff\">None</span>, <span style=\"color: #00af00; text-decoration-color: #00af00\">74</span>, <span style=\"color: #00af00; text-decoration-color: #00af00\">74</span>, <span style=\"color: #00af00; text-decoration-color: #00af00\">32</span>)     │             <span style=\"color: #00af00; text-decoration-color: #00af00\">0</span> │\n",
       "├─────────────────────────────────┼────────────────────────┼───────────────┤\n",
       "│ conv2d_1 (<span style=\"color: #0087ff; text-decoration-color: #0087ff\">Conv2D</span>)               │ (<span style=\"color: #00d7ff; text-decoration-color: #00d7ff\">None</span>, <span style=\"color: #00af00; text-decoration-color: #00af00\">72</span>, <span style=\"color: #00af00; text-decoration-color: #00af00\">72</span>, <span style=\"color: #00af00; text-decoration-color: #00af00\">64</span>)     │        <span style=\"color: #00af00; text-decoration-color: #00af00\">18,496</span> │\n",
       "├─────────────────────────────────┼────────────────────────┼───────────────┤\n",
       "│ max_pooling2d_1 (<span style=\"color: #0087ff; text-decoration-color: #0087ff\">MaxPooling2D</span>)  │ (<span style=\"color: #00d7ff; text-decoration-color: #00d7ff\">None</span>, <span style=\"color: #00af00; text-decoration-color: #00af00\">36</span>, <span style=\"color: #00af00; text-decoration-color: #00af00\">36</span>, <span style=\"color: #00af00; text-decoration-color: #00af00\">64</span>)     │             <span style=\"color: #00af00; text-decoration-color: #00af00\">0</span> │\n",
       "├─────────────────────────────────┼────────────────────────┼───────────────┤\n",
       "│ conv2d_2 (<span style=\"color: #0087ff; text-decoration-color: #0087ff\">Conv2D</span>)               │ (<span style=\"color: #00d7ff; text-decoration-color: #00d7ff\">None</span>, <span style=\"color: #00af00; text-decoration-color: #00af00\">34</span>, <span style=\"color: #00af00; text-decoration-color: #00af00\">34</span>, <span style=\"color: #00af00; text-decoration-color: #00af00\">128</span>)    │        <span style=\"color: #00af00; text-decoration-color: #00af00\">73,856</span> │\n",
       "├─────────────────────────────────┼────────────────────────┼───────────────┤\n",
       "│ max_pooling2d_2 (<span style=\"color: #0087ff; text-decoration-color: #0087ff\">MaxPooling2D</span>)  │ (<span style=\"color: #00d7ff; text-decoration-color: #00d7ff\">None</span>, <span style=\"color: #00af00; text-decoration-color: #00af00\">17</span>, <span style=\"color: #00af00; text-decoration-color: #00af00\">17</span>, <span style=\"color: #00af00; text-decoration-color: #00af00\">128</span>)    │             <span style=\"color: #00af00; text-decoration-color: #00af00\">0</span> │\n",
       "├─────────────────────────────────┼────────────────────────┼───────────────┤\n",
       "│ conv2d_3 (<span style=\"color: #0087ff; text-decoration-color: #0087ff\">Conv2D</span>)               │ (<span style=\"color: #00d7ff; text-decoration-color: #00d7ff\">None</span>, <span style=\"color: #00af00; text-decoration-color: #00af00\">15</span>, <span style=\"color: #00af00; text-decoration-color: #00af00\">15</span>, <span style=\"color: #00af00; text-decoration-color: #00af00\">128</span>)    │       <span style=\"color: #00af00; text-decoration-color: #00af00\">147,584</span> │\n",
       "├─────────────────────────────────┼────────────────────────┼───────────────┤\n",
       "│ max_pooling2d_3 (<span style=\"color: #0087ff; text-decoration-color: #0087ff\">MaxPooling2D</span>)  │ (<span style=\"color: #00d7ff; text-decoration-color: #00d7ff\">None</span>, <span style=\"color: #00af00; text-decoration-color: #00af00\">7</span>, <span style=\"color: #00af00; text-decoration-color: #00af00\">7</span>, <span style=\"color: #00af00; text-decoration-color: #00af00\">128</span>)      │             <span style=\"color: #00af00; text-decoration-color: #00af00\">0</span> │\n",
       "├─────────────────────────────────┼────────────────────────┼───────────────┤\n",
       "│ flatten (<span style=\"color: #0087ff; text-decoration-color: #0087ff\">Flatten</span>)               │ (<span style=\"color: #00d7ff; text-decoration-color: #00d7ff\">None</span>, <span style=\"color: #00af00; text-decoration-color: #00af00\">6272</span>)           │             <span style=\"color: #00af00; text-decoration-color: #00af00\">0</span> │\n",
       "├─────────────────────────────────┼────────────────────────┼───────────────┤\n",
       "│ dense (<span style=\"color: #0087ff; text-decoration-color: #0087ff\">Dense</span>)                   │ (<span style=\"color: #00d7ff; text-decoration-color: #00d7ff\">None</span>, <span style=\"color: #00af00; text-decoration-color: #00af00\">512</span>)            │     <span style=\"color: #00af00; text-decoration-color: #00af00\">3,211,776</span> │\n",
       "├─────────────────────────────────┼────────────────────────┼───────────────┤\n",
       "│ dense_1 (<span style=\"color: #0087ff; text-decoration-color: #0087ff\">Dense</span>)                 │ (<span style=\"color: #00d7ff; text-decoration-color: #00d7ff\">None</span>, <span style=\"color: #00af00; text-decoration-color: #00af00\">1</span>)              │           <span style=\"color: #00af00; text-decoration-color: #00af00\">513</span> │\n",
       "└─────────────────────────────────┴────────────────────────┴───────────────┘\n",
       "</pre>\n"
      ],
      "text/plain": [
       "┏━━━━━━━━━━━━━━━━━━━━━━━━━━━━━━━━━┳━━━━━━━━━━━━━━━━━━━━━━━━┳━━━━━━━━━━━━━━━┓\n",
       "┃\u001b[1m \u001b[0m\u001b[1mLayer (type)                   \u001b[0m\u001b[1m \u001b[0m┃\u001b[1m \u001b[0m\u001b[1mOutput Shape          \u001b[0m\u001b[1m \u001b[0m┃\u001b[1m \u001b[0m\u001b[1m      Param #\u001b[0m\u001b[1m \u001b[0m┃\n",
       "┡━━━━━━━━━━━━━━━━━━━━━━━━━━━━━━━━━╇━━━━━━━━━━━━━━━━━━━━━━━━╇━━━━━━━━━━━━━━━┩\n",
       "│ conv2d (\u001b[38;5;33mConv2D\u001b[0m)                 │ (\u001b[38;5;45mNone\u001b[0m, \u001b[38;5;34m148\u001b[0m, \u001b[38;5;34m148\u001b[0m, \u001b[38;5;34m32\u001b[0m)   │           \u001b[38;5;34m896\u001b[0m │\n",
       "├─────────────────────────────────┼────────────────────────┼───────────────┤\n",
       "│ max_pooling2d (\u001b[38;5;33mMaxPooling2D\u001b[0m)    │ (\u001b[38;5;45mNone\u001b[0m, \u001b[38;5;34m74\u001b[0m, \u001b[38;5;34m74\u001b[0m, \u001b[38;5;34m32\u001b[0m)     │             \u001b[38;5;34m0\u001b[0m │\n",
       "├─────────────────────────────────┼────────────────────────┼───────────────┤\n",
       "│ conv2d_1 (\u001b[38;5;33mConv2D\u001b[0m)               │ (\u001b[38;5;45mNone\u001b[0m, \u001b[38;5;34m72\u001b[0m, \u001b[38;5;34m72\u001b[0m, \u001b[38;5;34m64\u001b[0m)     │        \u001b[38;5;34m18,496\u001b[0m │\n",
       "├─────────────────────────────────┼────────────────────────┼───────────────┤\n",
       "│ max_pooling2d_1 (\u001b[38;5;33mMaxPooling2D\u001b[0m)  │ (\u001b[38;5;45mNone\u001b[0m, \u001b[38;5;34m36\u001b[0m, \u001b[38;5;34m36\u001b[0m, \u001b[38;5;34m64\u001b[0m)     │             \u001b[38;5;34m0\u001b[0m │\n",
       "├─────────────────────────────────┼────────────────────────┼───────────────┤\n",
       "│ conv2d_2 (\u001b[38;5;33mConv2D\u001b[0m)               │ (\u001b[38;5;45mNone\u001b[0m, \u001b[38;5;34m34\u001b[0m, \u001b[38;5;34m34\u001b[0m, \u001b[38;5;34m128\u001b[0m)    │        \u001b[38;5;34m73,856\u001b[0m │\n",
       "├─────────────────────────────────┼────────────────────────┼───────────────┤\n",
       "│ max_pooling2d_2 (\u001b[38;5;33mMaxPooling2D\u001b[0m)  │ (\u001b[38;5;45mNone\u001b[0m, \u001b[38;5;34m17\u001b[0m, \u001b[38;5;34m17\u001b[0m, \u001b[38;5;34m128\u001b[0m)    │             \u001b[38;5;34m0\u001b[0m │\n",
       "├─────────────────────────────────┼────────────────────────┼───────────────┤\n",
       "│ conv2d_3 (\u001b[38;5;33mConv2D\u001b[0m)               │ (\u001b[38;5;45mNone\u001b[0m, \u001b[38;5;34m15\u001b[0m, \u001b[38;5;34m15\u001b[0m, \u001b[38;5;34m128\u001b[0m)    │       \u001b[38;5;34m147,584\u001b[0m │\n",
       "├─────────────────────────────────┼────────────────────────┼───────────────┤\n",
       "│ max_pooling2d_3 (\u001b[38;5;33mMaxPooling2D\u001b[0m)  │ (\u001b[38;5;45mNone\u001b[0m, \u001b[38;5;34m7\u001b[0m, \u001b[38;5;34m7\u001b[0m, \u001b[38;5;34m128\u001b[0m)      │             \u001b[38;5;34m0\u001b[0m │\n",
       "├─────────────────────────────────┼────────────────────────┼───────────────┤\n",
       "│ flatten (\u001b[38;5;33mFlatten\u001b[0m)               │ (\u001b[38;5;45mNone\u001b[0m, \u001b[38;5;34m6272\u001b[0m)           │             \u001b[38;5;34m0\u001b[0m │\n",
       "├─────────────────────────────────┼────────────────────────┼───────────────┤\n",
       "│ dense (\u001b[38;5;33mDense\u001b[0m)                   │ (\u001b[38;5;45mNone\u001b[0m, \u001b[38;5;34m512\u001b[0m)            │     \u001b[38;5;34m3,211,776\u001b[0m │\n",
       "├─────────────────────────────────┼────────────────────────┼───────────────┤\n",
       "│ dense_1 (\u001b[38;5;33mDense\u001b[0m)                 │ (\u001b[38;5;45mNone\u001b[0m, \u001b[38;5;34m1\u001b[0m)              │           \u001b[38;5;34m513\u001b[0m │\n",
       "└─────────────────────────────────┴────────────────────────┴───────────────┘\n"
      ]
     },
     "metadata": {},
     "output_type": "display_data"
    },
    {
     "data": {
      "text/html": [
       "<pre style=\"white-space:pre;overflow-x:auto;line-height:normal;font-family:Menlo,'DejaVu Sans Mono',consolas,'Courier New',monospace\"><span style=\"font-weight: bold\"> Total params: </span><span style=\"color: #00af00; text-decoration-color: #00af00\">3,453,121</span> (13.17 MB)\n",
       "</pre>\n"
      ],
      "text/plain": [
       "\u001b[1m Total params: \u001b[0m\u001b[38;5;34m3,453,121\u001b[0m (13.17 MB)\n"
      ]
     },
     "metadata": {},
     "output_type": "display_data"
    },
    {
     "data": {
      "text/html": [
       "<pre style=\"white-space:pre;overflow-x:auto;line-height:normal;font-family:Menlo,'DejaVu Sans Mono',consolas,'Courier New',monospace\"><span style=\"font-weight: bold\"> Trainable params: </span><span style=\"color: #00af00; text-decoration-color: #00af00\">3,453,121</span> (13.17 MB)\n",
       "</pre>\n"
      ],
      "text/plain": [
       "\u001b[1m Trainable params: \u001b[0m\u001b[38;5;34m3,453,121\u001b[0m (13.17 MB)\n"
      ]
     },
     "metadata": {},
     "output_type": "display_data"
    },
    {
     "data": {
      "text/html": [
       "<pre style=\"white-space:pre;overflow-x:auto;line-height:normal;font-family:Menlo,'DejaVu Sans Mono',consolas,'Courier New',monospace\"><span style=\"font-weight: bold\"> Non-trainable params: </span><span style=\"color: #00af00; text-decoration-color: #00af00\">0</span> (0.00 B)\n",
       "</pre>\n"
      ],
      "text/plain": [
       "\u001b[1m Non-trainable params: \u001b[0m\u001b[38;5;34m0\u001b[0m (0.00 B)\n"
      ]
     },
     "metadata": {},
     "output_type": "display_data"
    }
   ],
   "source": [
    "# Create a MirroredStrategy.\n",
    "strategy = tf.distribute.MirroredStrategy(devices=[\"/gpu:0\", \"/gpu:1\"])\n",
    "\n",
    "# Open a strategy scope.\n",
    "with strategy.scope():\n",
    "    # Everything that creates variables should be under the strategy scope.\n",
    "    # In general this is only model construction & `compile`.\n",
    "    model = create_model()\n",
    "    model.compile(optimizer='adam',\n",
    "                  loss='binary_crossentropy',\n",
    "                  metrics=['accuracy'])\n",
    "\n",
    "# Print model summary\n",
    "model.summary()"
   ]
  },
  {
   "cell_type": "code",
   "execution_count": 14,
   "id": "6ed57f87",
   "metadata": {
    "execution": {
     "iopub.execute_input": "2024-04-18T11:35:29.459089Z",
     "iopub.status.busy": "2024-04-18T11:35:29.458306Z",
     "iopub.status.idle": "2024-04-18T14:08:30.875525Z",
     "shell.execute_reply": "2024-04-18T14:08:30.874614Z"
    },
    "papermill": {
     "duration": 9185.253806,
     "end_time": "2024-04-18T14:08:34.702612",
     "exception": false,
     "start_time": "2024-04-18T11:35:29.448806",
     "status": "completed"
    },
    "tags": []
   },
   "outputs": [
    {
     "name": "stdout",
     "output_type": "stream",
     "text": [
      "Epoch 1/10\n"
     ]
    },
    {
     "name": "stderr",
     "output_type": "stream",
     "text": [
      "/opt/conda/lib/python3.10/site-packages/keras/src/trainers/data_adapters/py_dataset_adapter.py:120: UserWarning: Your `PyDataset` class should call `super().__init__(**kwargs)` in its constructor. `**kwargs` can include `workers`, `use_multiprocessing`, `max_queue_size`. Do not pass these arguments to `fit()`, as they will be ignored.\n",
      "  self._warn_if_super_not_called()\n"
     ]
    },
    {
     "name": "stdout",
     "output_type": "stream",
     "text": [
      "\u001b[1m8321/8321\u001b[0m \u001b[32m━━━━━━━━━━━━━━━━━━━━\u001b[0m\u001b[37m\u001b[0m \u001b[1m1876s\u001b[0m 224ms/step - accuracy: 1.6171 - loss: 0.8681 - val_accuracy: 0.8443 - val_loss: 0.3666\n",
      "Epoch 2/10\n",
      "\u001b[1m   1/8321\u001b[0m \u001b[37m━━━━━━━━━━━━━━━━━━━━\u001b[0m \u001b[1m3:53\u001b[0m 28ms/step - accuracy: 1.8125 - loss: 0.5628"
     ]
    },
    {
     "name": "stderr",
     "output_type": "stream",
     "text": [
      "/opt/conda/lib/python3.10/contextlib.py:153: UserWarning: Your input ran out of data; interrupting training. Make sure that your dataset or generator can generate at least `steps_per_epoch * epochs` batches. You may need to use the `.repeat()` function when building your dataset.\n",
      "  self.gen.throw(typ, value, traceback)\n"
     ]
    },
    {
     "name": "stdout",
     "output_type": "stream",
     "text": [
      "\u001b[1m8321/8321\u001b[0m \u001b[32m━━━━━━━━━━━━━━━━━━━━\u001b[0m\u001b[37m\u001b[0m \u001b[1m1s\u001b[0m 62us/step - accuracy: 1.0001 - loss: 0.1490 - val_accuracy: 0.9091 - val_loss: 0.1048\n",
      "Epoch 3/10\n",
      "\u001b[1m8321/8321\u001b[0m \u001b[32m━━━━━━━━━━━━━━━━━━━━\u001b[0m\u001b[37m\u001b[0m \u001b[1m1849s\u001b[0m 222ms/step - accuracy: 1.6923 - loss: 0.7188 - val_accuracy: 0.8629 - val_loss: 0.3283\n",
      "Epoch 4/10\n",
      "\u001b[1m8321/8321\u001b[0m \u001b[32m━━━━━━━━━━━━━━━━━━━━\u001b[0m\u001b[37m\u001b[0m \u001b[1m0s\u001b[0m 6us/step - accuracy: 0.9376 - loss: 0.2470 - val_accuracy: 0.5455 - val_loss: 0.4091\n",
      "Epoch 5/10\n",
      "\u001b[1m8321/8321\u001b[0m \u001b[32m━━━━━━━━━━━━━━━━━━━━\u001b[0m\u001b[37m\u001b[0m \u001b[1m1820s\u001b[0m 219ms/step - accuracy: 1.7029 - loss: 0.6921 - val_accuracy: 0.8591 - val_loss: 0.3381\n",
      "Epoch 6/10\n",
      "\u001b[1m8321/8321\u001b[0m \u001b[32m━━━━━━━━━━━━━━━━━━━━\u001b[0m\u001b[37m\u001b[0m \u001b[1m0s\u001b[0m 8us/step - accuracy: 0.8126 - loss: 0.3668 - val_accuracy: 1.0000 - val_loss: 0.0870\n",
      "Epoch 7/10\n",
      "\u001b[1m8321/8321\u001b[0m \u001b[32m━━━━━━━━━━━━━━━━━━━━\u001b[0m\u001b[37m\u001b[0m \u001b[1m1820s\u001b[0m 218ms/step - accuracy: 1.7122 - loss: 0.6718 - val_accuracy: 0.8605 - val_loss: 0.3259\n",
      "Epoch 8/10\n",
      "\u001b[1m8321/8321\u001b[0m \u001b[32m━━━━━━━━━━━━━━━━━━━━\u001b[0m\u001b[37m\u001b[0m \u001b[1m0s\u001b[0m 6us/step - accuracy: 1.0001 - loss: 0.1182 - val_accuracy: 0.9091 - val_loss: 0.1633\n",
      "Epoch 9/10\n",
      "\u001b[1m8321/8321\u001b[0m \u001b[32m━━━━━━━━━━━━━━━━━━━━\u001b[0m\u001b[37m\u001b[0m \u001b[1m1814s\u001b[0m 218ms/step - accuracy: 1.7200 - loss: 0.6560 - val_accuracy: 0.8701 - val_loss: 0.3129\n",
      "Epoch 10/10\n",
      "\u001b[1m8321/8321\u001b[0m \u001b[32m━━━━━━━━━━━━━━━━━━━━\u001b[0m\u001b[37m\u001b[0m \u001b[1m0s\u001b[0m 5us/step - accuracy: 0.8751 - loss: 0.3217 - val_accuracy: 0.8182 - val_loss: 0.1421\n"
     ]
    }
   ],
   "source": [
    "# Train the model\n",
    "history = model.fit(\n",
    "    train_generator,\n",
    "    steps_per_epoch=train_generator.samples // batch_size,\n",
    "    epochs=10,\n",
    "    validation_data=test_generator,\n",
    "    validation_steps=test_generator.samples // batch_size\n",
    ")"
   ]
  },
  {
   "cell_type": "code",
   "execution_count": 15,
   "id": "5a43952b",
   "metadata": {
    "execution": {
     "iopub.execute_input": "2024-04-18T14:08:42.403469Z",
     "iopub.status.busy": "2024-04-18T14:08:42.402650Z",
     "iopub.status.idle": "2024-04-18T14:09:53.024439Z",
     "shell.execute_reply": "2024-04-18T14:09:53.023500Z"
    },
    "papermill": {
     "duration": 78.463398,
     "end_time": "2024-04-18T14:09:56.963517",
     "exception": false,
     "start_time": "2024-04-18T14:08:38.500119",
     "status": "completed"
    },
    "tags": []
   },
   "outputs": [
    {
     "name": "stdout",
     "output_type": "stream",
     "text": [
      "3132/3132 - 71s - 23ms/step - accuracy: 0.8710 - loss: 0.3105\n",
      "\n",
      "Test accuracy: 87.10%\n"
     ]
    }
   ],
   "source": [
    "# Evaluate the model\n",
    "test_loss, test_acc = model.evaluate(test_generator, verbose=2)\n",
    "\n",
    "# Convert test_acc to percentage and print with two decimal places\n",
    "print('\\nTest accuracy: {:.2f}%'.format(test_acc * 100))"
   ]
  }
 ],
 "metadata": {
  "kaggle": {
   "accelerator": "nvidiaTeslaT4",
   "dataSources": [
    {
     "datasetId": 4817431,
     "sourceId": 8146472,
     "sourceType": "datasetVersion"
    }
   ],
   "dockerImageVersionId": 30684,
   "isGpuEnabled": true,
   "isInternetEnabled": true,
   "language": "python",
   "sourceType": "notebook"
  },
  "kernelspec": {
   "display_name": "Python 3",
   "language": "python",
   "name": "python3"
  },
  "language_info": {
   "codemirror_mode": {
    "name": "ipython",
    "version": 3
   },
   "file_extension": ".py",
   "mimetype": "text/x-python",
   "name": "python",
   "nbconvert_exporter": "python",
   "pygments_lexer": "ipython3",
   "version": "3.10.13"
  },
  "papermill": {
   "default_parameters": {},
   "duration": 13290.799911,
   "end_time": "2024-04-18T14:10:03.832026",
   "environment_variables": {},
   "exception": null,
   "input_path": "__notebook__.ipynb",
   "output_path": "__notebook__.ipynb",
   "parameters": {},
   "start_time": "2024-04-18T10:28:33.032115",
   "version": "2.5.0"
  }
 },
 "nbformat": 4,
 "nbformat_minor": 5
}
